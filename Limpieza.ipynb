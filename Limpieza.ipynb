{
 "cells": [
  {
   "cell_type": "markdown",
   "id": "d69fe187-75b0-431e-a621-3ed372dd50aa",
   "metadata": {},
   "source": [
    "# ANÁLISIS DE DATOS DEL MUNICIPIO DE MONTERREY – AÑO 2014"
   ]
  },
  {
   "cell_type": "markdown",
   "id": "38cd64d4-a44d-43ef-bf81-6a917fb816fa",
   "metadata": {},
   "source": [
    "#### INTEGRANTES:\n",
    "Alejandro Salazar\r\n",
    "\n",
    "Gabriela Uquilla\r\n"
   ]
  },
  {
   "cell_type": "markdown",
   "id": "dfe2822d-dc5e-4c7f-9d0c-f580ae4685ae",
   "metadata": {},
   "source": [
    "### CARGA DE DATOS"
   ]
  },
  {
   "cell_type": "code",
   "execution_count": 1,
   "id": "86b50dc2-3353-4568-aa0a-7288de062a0d",
   "metadata": {},
   "outputs": [],
   "source": [
    "import pandas as pd"
   ]
  },
  {
   "cell_type": "code",
   "execution_count": 2,
   "id": "f0651c93-192e-482f-af25-4438ceaa351f",
   "metadata": {},
   "outputs": [],
   "source": [
    "df_pagos_enero=pd.read_excel('data/ene.xlsx', skiprows=6)"
   ]
  },
  {
   "cell_type": "code",
   "execution_count": 3,
   "id": "972096db-d305-418f-a9f6-0e13f5931b30",
   "metadata": {},
   "outputs": [],
   "source": [
    "df_pagos_febrero=pd.read_excel('data/feb.xlsx', skiprows=6)"
   ]
  },
  {
   "cell_type": "code",
   "execution_count": 4,
   "id": "03aa4384-d728-4367-9485-cb128ecd8465",
   "metadata": {},
   "outputs": [],
   "source": [
    "df_pagos_marzo=pd.read_excel('data/mar.xlsx', skiprows=6)"
   ]
  },
  {
   "cell_type": "code",
   "execution_count": 5,
   "id": "04995fa7-4bd1-4020-b51d-ba092071e0a0",
   "metadata": {},
   "outputs": [],
   "source": [
    "df_pagos_abril=pd.read_excel('data/abril.xlsx', skiprows=6)"
   ]
  },
  {
   "cell_type": "code",
   "execution_count": 6,
   "id": "84c5ec50-2290-4320-8f6e-9159badde255",
   "metadata": {},
   "outputs": [],
   "source": [
    "df_pagos_mayo=pd.read_excel('data/mayo.xlsx', skiprows=6)"
   ]
  },
  {
   "cell_type": "code",
   "execution_count": 7,
   "id": "79cd76d2-2d88-403c-bc65-06176cc442c7",
   "metadata": {},
   "outputs": [],
   "source": [
    "df_pagos_junio=pd.read_excel('data/junio.xlsx', skiprows=6)"
   ]
  },
  {
   "cell_type": "code",
   "execution_count": 8,
   "id": "b2d4cb4c-66d1-47c4-84c7-5ce8f7fae539",
   "metadata": {},
   "outputs": [],
   "source": [
    "df_pagos_julio=pd.read_excel('data/julio.xlsx', skiprows=6)"
   ]
  },
  {
   "cell_type": "code",
   "execution_count": 9,
   "id": "673a279a-128c-47f4-a423-18e072d60c12",
   "metadata": {},
   "outputs": [
    {
     "name": "stderr",
     "output_type": "stream",
     "text": [
      "C:\\Users\\jossu\\anaconda3\\Lib\\site-packages\\openpyxl\\worksheet\\_read_only.py:79: UserWarning: Unknown extension is not supported and will be removed\n",
      "  for idx, row in parser.parse():\n"
     ]
    }
   ],
   "source": [
    "df_pagos_agosto=pd.read_excel('data/agosto.xlsx', skiprows=6)"
   ]
  },
  {
   "cell_type": "code",
   "execution_count": 10,
   "id": "8cb84240-6685-4147-86e9-6431a468ac2b",
   "metadata": {},
   "outputs": [],
   "source": [
    "df_pagos_septiembre=pd.read_excel('data/sept.xlsx', skiprows=6)"
   ]
  },
  {
   "cell_type": "code",
   "execution_count": 11,
   "id": "17961a5a-dce1-44c1-a66d-6ea02a509ba7",
   "metadata": {},
   "outputs": [],
   "source": [
    "df_pagos_octubre=pd.read_excel('data/oct.xlsx', skiprows=6)"
   ]
  },
  {
   "cell_type": "code",
   "execution_count": 12,
   "id": "0be05cea-0dbc-4689-b648-2baa8f9ae54c",
   "metadata": {},
   "outputs": [],
   "source": [
    "df_pagos_noviembre=pd.read_excel('data/nov.xlsx', skiprows=6)"
   ]
  },
  {
   "cell_type": "code",
   "execution_count": 13,
   "id": "5be2b49e-b55a-4d1d-a65b-591b369790f8",
   "metadata": {},
   "outputs": [],
   "source": [
    "df_pagos_diciembre=pd.read_excel('data/dic.xlsx', skiprows=6)"
   ]
  },
  {
   "cell_type": "code",
   "execution_count": 14,
   "id": "3c7e5d99-22ae-49ba-9783-9899cb84407e",
   "metadata": {},
   "outputs": [
    {
     "name": "stderr",
     "output_type": "stream",
     "text": [
      "C:\\Users\\jossu\\AppData\\Local\\Temp\\ipykernel_25356\\1617455166.py:1: FutureWarning: The behavior of DataFrame concatenation with empty or all-NA entries is deprecated. In a future version, this will no longer exclude empty or all-NA columns when determining the result dtypes. To retain the old behavior, exclude the relevant entries before the concat operation.\n",
      "  df_pago_anual=pd.concat([df_pagos_enero, df_pagos_febrero, df_pagos_marzo, df_pagos_abril, df_pagos_mayo, df_pagos_junio, df_pagos_julio, df_pagos_agosto, df_pagos_septiembre, df_pagos_octubre, df_pagos_noviembre, df_pagos_diciembre])\n"
     ]
    }
   ],
   "source": [
    "df_pago_anual=pd.concat([df_pagos_enero, df_pagos_febrero, df_pagos_marzo, df_pagos_abril, df_pagos_mayo, df_pagos_junio, df_pagos_julio, df_pagos_agosto, df_pagos_septiembre, df_pagos_octubre, df_pagos_noviembre, df_pagos_diciembre])"
   ]
  },
  {
   "cell_type": "code",
   "execution_count": 15,
   "id": "1259c80c-f565-487a-907c-8fb8b51dd920",
   "metadata": {},
   "outputs": [
    {
     "data": {
      "text/html": [
       "<div>\n",
       "<style scoped>\n",
       "    .dataframe tbody tr th:only-of-type {\n",
       "        vertical-align: middle;\n",
       "    }\n",
       "\n",
       "    .dataframe tbody tr th {\n",
       "        vertical-align: top;\n",
       "    }\n",
       "\n",
       "    .dataframe thead th {\n",
       "        text-align: right;\n",
       "    }\n",
       "</style>\n",
       "<table border=\"1\" class=\"dataframe\">\n",
       "  <thead>\n",
       "    <tr style=\"text-align: right;\">\n",
       "      <th></th>\n",
       "      <th>FECHA</th>\n",
       "      <th>FACTURA</th>\n",
       "      <th>BENEFICIARIO</th>\n",
       "      <th>CONCEPTO</th>\n",
       "      <th>IMPORTE</th>\n",
       "      <th>FECHA DEL PAGO POR CADENAS</th>\n",
       "      <th>RFC</th>\n",
       "    </tr>\n",
       "  </thead>\n",
       "  <tbody>\n",
       "    <tr>\n",
       "      <th>0</th>\n",
       "      <td>OBRA PUBLICA Y RECURSOS ETIQUETADOS</td>\n",
       "      <td>NaN</td>\n",
       "      <td>NaN</td>\n",
       "      <td>NaN</td>\n",
       "      <td>NaN</td>\n",
       "      <td>NaT</td>\n",
       "      <td>NaN</td>\n",
       "    </tr>\n",
       "    <tr>\n",
       "      <th>1</th>\n",
       "      <td>2014-01-31 00:00:00</td>\n",
       "      <td>388</td>\n",
       "      <td>BUFETE URBANISTICO, S.A. DE C.V.</td>\n",
       "      <td>REHABILITACION PAVIMENTO ASFALTICO</td>\n",
       "      <td>3,314,064.24</td>\n",
       "      <td>NaT</td>\n",
       "      <td>NaN</td>\n",
       "    </tr>\n",
       "    <tr>\n",
       "      <th>2</th>\n",
       "      <td>2014-01-31 00:00:00</td>\n",
       "      <td>339</td>\n",
       "      <td>GUERRERO SEGURA NESTOR</td>\n",
       "      <td>REHABILITACION GIMNASIO</td>\n",
       "      <td>1,247,305.36</td>\n",
       "      <td>NaT</td>\n",
       "      <td>NaN</td>\n",
       "    </tr>\n",
       "    <tr>\n",
       "      <th>3</th>\n",
       "      <td>2014-01-31 00:00:00</td>\n",
       "      <td>77</td>\n",
       "      <td>CONSTRUCCIONES DYNAMO, SA. DE CV.</td>\n",
       "      <td>CONST. CENTRO DE DESARROLLO DEPORTIVO</td>\n",
       "      <td>1,521,090.52</td>\n",
       "      <td>NaT</td>\n",
       "      <td>NaN</td>\n",
       "    </tr>\n",
       "    <tr>\n",
       "      <th>4</th>\n",
       "      <td>2014-01-31 00:00:00</td>\n",
       "      <td>365</td>\n",
       "      <td>CONSTRUCTORA JOMABE, SA. DE CV.</td>\n",
       "      <td>REHABILITACION GIMNASIO</td>\n",
       "      <td>1,245,945.57</td>\n",
       "      <td>NaT</td>\n",
       "      <td>NaN</td>\n",
       "    </tr>\n",
       "  </tbody>\n",
       "</table>\n",
       "</div>"
      ],
      "text/plain": [
       "                                 FECHA FACTURA  \\\n",
       "0  OBRA PUBLICA Y RECURSOS ETIQUETADOS     NaN   \n",
       "1                  2014-01-31 00:00:00     388   \n",
       "2                  2014-01-31 00:00:00     339   \n",
       "3                  2014-01-31 00:00:00      77   \n",
       "4                  2014-01-31 00:00:00     365   \n",
       "\n",
       "                        BENEFICIARIO                               CONCEPTO  \\\n",
       "0                                NaN                                    NaN   \n",
       "1   BUFETE URBANISTICO, S.A. DE C.V.     REHABILITACION PAVIMENTO ASFALTICO   \n",
       "2             GUERRERO SEGURA NESTOR                REHABILITACION GIMNASIO   \n",
       "3  CONSTRUCCIONES DYNAMO, SA. DE CV.  CONST. CENTRO DE DESARROLLO DEPORTIVO   \n",
       "4    CONSTRUCTORA JOMABE, SA. DE CV.                REHABILITACION GIMNASIO   \n",
       "\n",
       "        IMPORTE FECHA DEL PAGO POR CADENAS  RFC  \n",
       "0           NaN                        NaT  NaN  \n",
       "1  3,314,064.24                        NaT  NaN  \n",
       "2  1,247,305.36                        NaT  NaN  \n",
       "3  1,521,090.52                        NaT  NaN  \n",
       "4  1,245,945.57                        NaT  NaN  "
      ]
     },
     "execution_count": 15,
     "metadata": {},
     "output_type": "execute_result"
    }
   ],
   "source": [
    "df_pago_anual.head(5)"
   ]
  },
  {
   "cell_type": "markdown",
   "id": "891f4559-00a8-4b90-bda9-b25f73cd6ec9",
   "metadata": {},
   "source": [
    "### LIMPIEZA DE DATOS"
   ]
  },
  {
   "cell_type": "code",
   "execution_count": 16,
   "id": "1b73b83d-a31e-48c0-8dfe-4b3bbbf06268",
   "metadata": {},
   "outputs": [
    {
     "data": {
      "text/plain": [
       "9041"
      ]
     },
     "execution_count": 16,
     "metadata": {},
     "output_type": "execute_result"
    }
   ],
   "source": [
    "len(df_pago_anual)"
   ]
  },
  {
   "cell_type": "code",
   "execution_count": 17,
   "id": "4a63910f-a72c-4330-8402-b918ff6e3c85",
   "metadata": {},
   "outputs": [],
   "source": [
    "df_pago_anual_com = df_pago_anual.dropna(thresh=len(df_pago_anual.columns) - 5)"
   ]
  },
  {
   "cell_type": "code",
   "execution_count": 18,
   "id": "84fd487e-0fc4-4665-9258-40b46cfee1ec",
   "metadata": {},
   "outputs": [
    {
     "data": {
      "text/plain": [
       "8982"
      ]
     },
     "execution_count": 18,
     "metadata": {},
     "output_type": "execute_result"
    }
   ],
   "source": [
    "len(df_pago_anual_com)"
   ]
  },
  {
   "cell_type": "code",
   "execution_count": 19,
   "id": "2307b56a-4920-41b1-8d3f-a5d602c6d430",
   "metadata": {},
   "outputs": [
    {
     "data": {
      "text/plain": [
       "FECHA                                 object\n",
       "FACTURA                               object\n",
       "BENEFICIARIO                          object\n",
       "CONCEPTO                              object\n",
       "IMPORTE                               object\n",
       "FECHA DEL PAGO POR CADENAS    datetime64[ns]\n",
       "RFC                                   object\n",
       "dtype: object"
      ]
     },
     "execution_count": 19,
     "metadata": {},
     "output_type": "execute_result"
    }
   ],
   "source": [
    "df_pago_anual_com.dtypes"
   ]
  },
  {
   "cell_type": "code",
   "execution_count": 20,
   "id": "b7d729ed-225c-4feb-92e2-8418e055d945",
   "metadata": {},
   "outputs": [
    {
     "data": {
      "text/plain": [
       "FECHA\n",
       "2     1368\n",
       "7     1028\n",
       "12    1024\n",
       "3      988\n",
       "9      821\n",
       "10     815\n",
       "11     744\n",
       "5      645\n",
       "1      456\n",
       "8      387\n",
       "6      377\n",
       "4      329\n",
       "Name: count, dtype: int64"
      ]
     },
     "execution_count": 20,
     "metadata": {},
     "output_type": "execute_result"
    }
   ],
   "source": [
    "df_pago_anual_com['FECHA'].apply(lambda x: x.month).value_counts()"
   ]
  },
  {
   "cell_type": "code",
   "execution_count": 21,
   "id": "0c8f6dfd-f3b5-49e1-b3ec-c993ba39263e",
   "metadata": {},
   "outputs": [
    {
     "data": {
      "text/html": [
       "<div>\n",
       "<style scoped>\n",
       "    .dataframe tbody tr th:only-of-type {\n",
       "        vertical-align: middle;\n",
       "    }\n",
       "\n",
       "    .dataframe tbody tr th {\n",
       "        vertical-align: top;\n",
       "    }\n",
       "\n",
       "    .dataframe thead th {\n",
       "        text-align: right;\n",
       "    }\n",
       "</style>\n",
       "<table border=\"1\" class=\"dataframe\">\n",
       "  <thead>\n",
       "    <tr style=\"text-align: right;\">\n",
       "      <th></th>\n",
       "      <th>FECHA</th>\n",
       "      <th>FACTURA</th>\n",
       "      <th>BENEFICIARIO</th>\n",
       "      <th>CONCEPTO</th>\n",
       "      <th>IMPORTE</th>\n",
       "      <th>FECHA DEL PAGO POR CADENAS</th>\n",
       "      <th>RFC</th>\n",
       "    </tr>\n",
       "  </thead>\n",
       "  <tbody>\n",
       "    <tr>\n",
       "      <th>1</th>\n",
       "      <td>2014-01-31 00:00:00</td>\n",
       "      <td>388</td>\n",
       "      <td>BUFETE URBANISTICO, S.A. DE C.V.</td>\n",
       "      <td>REHABILITACION PAVIMENTO ASFALTICO</td>\n",
       "      <td>3,314,064.24</td>\n",
       "      <td>NaT</td>\n",
       "      <td>NaN</td>\n",
       "    </tr>\n",
       "    <tr>\n",
       "      <th>2</th>\n",
       "      <td>2014-01-31 00:00:00</td>\n",
       "      <td>339</td>\n",
       "      <td>GUERRERO SEGURA NESTOR</td>\n",
       "      <td>REHABILITACION GIMNASIO</td>\n",
       "      <td>1,247,305.36</td>\n",
       "      <td>NaT</td>\n",
       "      <td>NaN</td>\n",
       "    </tr>\n",
       "    <tr>\n",
       "      <th>3</th>\n",
       "      <td>2014-01-31 00:00:00</td>\n",
       "      <td>77</td>\n",
       "      <td>CONSTRUCCIONES DYNAMO, SA. DE CV.</td>\n",
       "      <td>CONST. CENTRO DE DESARROLLO DEPORTIVO</td>\n",
       "      <td>1,521,090.52</td>\n",
       "      <td>NaT</td>\n",
       "      <td>NaN</td>\n",
       "    </tr>\n",
       "    <tr>\n",
       "      <th>4</th>\n",
       "      <td>2014-01-31 00:00:00</td>\n",
       "      <td>365</td>\n",
       "      <td>CONSTRUCTORA JOMABE, SA. DE CV.</td>\n",
       "      <td>REHABILITACION GIMNASIO</td>\n",
       "      <td>1,245,945.57</td>\n",
       "      <td>NaT</td>\n",
       "      <td>NaN</td>\n",
       "    </tr>\n",
       "    <tr>\n",
       "      <th>5</th>\n",
       "      <td>2014-01-31 00:00:00</td>\n",
       "      <td>161A</td>\n",
       "      <td>GRUPO CONSTRUCTOR PETREO, SA. DE CV.</td>\n",
       "      <td>REHABILITACION GIMNASIO</td>\n",
       "      <td>1,038,065.36</td>\n",
       "      <td>NaT</td>\n",
       "      <td>NaN</td>\n",
       "    </tr>\n",
       "    <tr>\n",
       "      <th>6</th>\n",
       "      <td>2014-01-31 00:00:00</td>\n",
       "      <td>A84</td>\n",
       "      <td>EDIFICACION URBANA CONTEMPORANEA, SA. DE CV.</td>\n",
       "      <td>CONST. DE CANCHA, VITAPISTA Y GIMNASIO</td>\n",
       "      <td>2,265,788.94</td>\n",
       "      <td>NaT</td>\n",
       "      <td>NaN</td>\n",
       "    </tr>\n",
       "    <tr>\n",
       "      <th>7</th>\n",
       "      <td>2014-01-31 00:00:00</td>\n",
       "      <td>A89</td>\n",
       "      <td>EDIFICACION URBANA CONTEMPORANEA, SA. DE CV.</td>\n",
       "      <td>CONST. CANCHA DE FUTBOL RAPIDO</td>\n",
       "      <td>449,868.54</td>\n",
       "      <td>NaT</td>\n",
       "      <td>NaN</td>\n",
       "    </tr>\n",
       "    <tr>\n",
       "      <th>8</th>\n",
       "      <td>2014-01-31 00:00:00</td>\n",
       "      <td>B1432</td>\n",
       "      <td>PAVIMENTOS DESARROLLOS Y CONSTRUCCIONES, SA. D...</td>\n",
       "      <td>ADECUACIONES EN CIUDAD DEPORTIVA</td>\n",
       "      <td>1,010,972.31</td>\n",
       "      <td>NaT</td>\n",
       "      <td>NaN</td>\n",
       "    </tr>\n",
       "    <tr>\n",
       "      <th>9</th>\n",
       "      <td>2014-01-31 00:00:00</td>\n",
       "      <td>A63</td>\n",
       "      <td>ALCALA URBANIZACIONES, SA. DE CV.</td>\n",
       "      <td>REGENERACION DE LA CALLE OCAMPO</td>\n",
       "      <td>1,436,941.38</td>\n",
       "      <td>NaT</td>\n",
       "      <td>NaN</td>\n",
       "    </tr>\n",
       "    <tr>\n",
       "      <th>10</th>\n",
       "      <td>2014-01-31 00:00:00</td>\n",
       "      <td>A64</td>\n",
       "      <td>ALCALA URBANIZACIONES, SA. DE CV.</td>\n",
       "      <td>REGENERACION DE LA CALLE OCAMPO</td>\n",
       "      <td>1,502,828.05</td>\n",
       "      <td>NaT</td>\n",
       "      <td>NaN</td>\n",
       "    </tr>\n",
       "  </tbody>\n",
       "</table>\n",
       "</div>"
      ],
      "text/plain": [
       "                  FECHA FACTURA  \\\n",
       "1   2014-01-31 00:00:00     388   \n",
       "2   2014-01-31 00:00:00     339   \n",
       "3   2014-01-31 00:00:00      77   \n",
       "4   2014-01-31 00:00:00     365   \n",
       "5   2014-01-31 00:00:00    161A   \n",
       "6   2014-01-31 00:00:00     A84   \n",
       "7   2014-01-31 00:00:00     A89   \n",
       "8   2014-01-31 00:00:00   B1432   \n",
       "9   2014-01-31 00:00:00     A63   \n",
       "10  2014-01-31 00:00:00     A64   \n",
       "\n",
       "                                         BENEFICIARIO  \\\n",
       "1                    BUFETE URBANISTICO, S.A. DE C.V.   \n",
       "2                              GUERRERO SEGURA NESTOR   \n",
       "3                   CONSTRUCCIONES DYNAMO, SA. DE CV.   \n",
       "4                     CONSTRUCTORA JOMABE, SA. DE CV.   \n",
       "5                GRUPO CONSTRUCTOR PETREO, SA. DE CV.   \n",
       "6        EDIFICACION URBANA CONTEMPORANEA, SA. DE CV.   \n",
       "7        EDIFICACION URBANA CONTEMPORANEA, SA. DE CV.   \n",
       "8   PAVIMENTOS DESARROLLOS Y CONSTRUCCIONES, SA. D...   \n",
       "9                   ALCALA URBANIZACIONES, SA. DE CV.   \n",
       "10                  ALCALA URBANIZACIONES, SA. DE CV.   \n",
       "\n",
       "                                  CONCEPTO       IMPORTE  \\\n",
       "1       REHABILITACION PAVIMENTO ASFALTICO  3,314,064.24   \n",
       "2                  REHABILITACION GIMNASIO  1,247,305.36   \n",
       "3    CONST. CENTRO DE DESARROLLO DEPORTIVO  1,521,090.52   \n",
       "4                  REHABILITACION GIMNASIO  1,245,945.57   \n",
       "5                  REHABILITACION GIMNASIO  1,038,065.36   \n",
       "6   CONST. DE CANCHA, VITAPISTA Y GIMNASIO  2,265,788.94   \n",
       "7           CONST. CANCHA DE FUTBOL RAPIDO    449,868.54   \n",
       "8         ADECUACIONES EN CIUDAD DEPORTIVA  1,010,972.31   \n",
       "9          REGENERACION DE LA CALLE OCAMPO  1,436,941.38   \n",
       "10         REGENERACION DE LA CALLE OCAMPO  1,502,828.05   \n",
       "\n",
       "   FECHA DEL PAGO POR CADENAS  RFC  \n",
       "1                         NaT  NaN  \n",
       "2                         NaT  NaN  \n",
       "3                         NaT  NaN  \n",
       "4                         NaT  NaN  \n",
       "5                         NaT  NaN  \n",
       "6                         NaT  NaN  \n",
       "7                         NaT  NaN  \n",
       "8                         NaT  NaN  \n",
       "9                         NaT  NaN  \n",
       "10                        NaT  NaN  "
      ]
     },
     "execution_count": 21,
     "metadata": {},
     "output_type": "execute_result"
    }
   ],
   "source": [
    "df_pago_anual_com.head(10)"
   ]
  },
  {
   "cell_type": "code",
   "execution_count": 22,
   "id": "314b5d40-42c7-4928-a256-20a0558853ac",
   "metadata": {},
   "outputs": [],
   "source": [
    "df_pago_anual_com.to_csv('Cclean_pago_anual.csv', index=None)"
   ]
  }
 ],
 "metadata": {
  "kernelspec": {
   "display_name": "Python 3 (ipykernel)",
   "language": "python",
   "name": "python3"
  },
  "language_info": {
   "codemirror_mode": {
    "name": "ipython",
    "version": 3
   },
   "file_extension": ".py",
   "mimetype": "text/x-python",
   "name": "python",
   "nbconvert_exporter": "python",
   "pygments_lexer": "ipython3",
   "version": "3.11.7"
  }
 },
 "nbformat": 4,
 "nbformat_minor": 5
}
