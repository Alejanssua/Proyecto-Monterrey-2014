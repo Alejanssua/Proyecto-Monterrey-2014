{
 "cells": [
  {
   "cell_type": "markdown",
   "id": "53a000b2-2604-4370-9a44-88268475f13f",
   "metadata": {},
   "source": [
    "# ANÁLISIS DE DATOS DEL MUNICIPIO DE MONTERREY – AÑO 2014"
   ]
  },
  {
   "cell_type": "markdown",
   "id": "cfaf5a2e-8a18-4bee-9b8a-f3d2afb4a27a",
   "metadata": {},
   "source": [
    "#### INTEGRANTES:\n",
    "Alejandro Salazar\n",
    "\n",
    "Gabriela Uquillas"
   ]
  },
  {
   "cell_type": "code",
   "execution_count": 1,
   "id": "8b51d584-47cb-4b01-aa6b-637614a3ba10",
   "metadata": {},
   "outputs": [],
   "source": [
    "%matplotlib inline\n",
    "import pandas as pd"
   ]
  },
  {
   "cell_type": "code",
   "execution_count": 2,
   "id": "47df1821-70dc-49b8-9f06-01e6a590f49a",
   "metadata": {},
   "outputs": [],
   "source": [
    "compras_df = pd.read_csv('data_export/clean_pago_anual.csv')"
   ]
  },
  {
   "cell_type": "code",
   "execution_count": 3,
   "id": "19fa3755-0538-40e9-9a42-302a60e94e7c",
   "metadata": {},
   "outputs": [
    {
     "data": {
      "text/html": [
       "<div>\n",
       "<style scoped>\n",
       "    .dataframe tbody tr th:only-of-type {\n",
       "        vertical-align: middle;\n",
       "    }\n",
       "\n",
       "    .dataframe tbody tr th {\n",
       "        vertical-align: top;\n",
       "    }\n",
       "\n",
       "    .dataframe thead th {\n",
       "        text-align: right;\n",
       "    }\n",
       "</style>\n",
       "<table border=\"1\" class=\"dataframe\">\n",
       "  <thead>\n",
       "    <tr style=\"text-align: right;\">\n",
       "      <th></th>\n",
       "      <th>FECHA</th>\n",
       "      <th>FACTURA</th>\n",
       "      <th>BENEFICIARIO</th>\n",
       "      <th>CONCEPTO</th>\n",
       "      <th>IMPORTE</th>\n",
       "      <th>FECHA DEL PAGO POR CADENAS</th>\n",
       "      <th>RFC</th>\n",
       "    </tr>\n",
       "  </thead>\n",
       "  <tbody>\n",
       "    <tr>\n",
       "      <th>0</th>\n",
       "      <td>2014-01-31 00:00:00</td>\n",
       "      <td>388</td>\n",
       "      <td>BUFETE URBANISTICO, S.A. DE C.V.</td>\n",
       "      <td>REHABILITACION PAVIMENTO ASFALTICO</td>\n",
       "      <td>3,314,064.24</td>\n",
       "      <td>NaN</td>\n",
       "      <td>NaN</td>\n",
       "    </tr>\n",
       "    <tr>\n",
       "      <th>1</th>\n",
       "      <td>2014-01-31 00:00:00</td>\n",
       "      <td>339</td>\n",
       "      <td>GUERRERO SEGURA NESTOR</td>\n",
       "      <td>REHABILITACION GIMNASIO</td>\n",
       "      <td>1,247,305.36</td>\n",
       "      <td>NaN</td>\n",
       "      <td>NaN</td>\n",
       "    </tr>\n",
       "    <tr>\n",
       "      <th>2</th>\n",
       "      <td>2014-01-31 00:00:00</td>\n",
       "      <td>77</td>\n",
       "      <td>CONSTRUCCIONES DYNAMO, SA. DE CV.</td>\n",
       "      <td>CONST. CENTRO DE DESARROLLO DEPORTIVO</td>\n",
       "      <td>1,521,090.52</td>\n",
       "      <td>NaN</td>\n",
       "      <td>NaN</td>\n",
       "    </tr>\n",
       "    <tr>\n",
       "      <th>3</th>\n",
       "      <td>2014-01-31 00:00:00</td>\n",
       "      <td>365</td>\n",
       "      <td>CONSTRUCTORA JOMABE, SA. DE CV.</td>\n",
       "      <td>REHABILITACION GIMNASIO</td>\n",
       "      <td>1,245,945.57</td>\n",
       "      <td>NaN</td>\n",
       "      <td>NaN</td>\n",
       "    </tr>\n",
       "  </tbody>\n",
       "</table>\n",
       "</div>"
      ],
      "text/plain": [
       "                 FECHA FACTURA                       BENEFICIARIO  \\\n",
       "0  2014-01-31 00:00:00     388   BUFETE URBANISTICO, S.A. DE C.V.   \n",
       "1  2014-01-31 00:00:00     339             GUERRERO SEGURA NESTOR   \n",
       "2  2014-01-31 00:00:00      77  CONSTRUCCIONES DYNAMO, SA. DE CV.   \n",
       "3  2014-01-31 00:00:00     365    CONSTRUCTORA JOMABE, SA. DE CV.   \n",
       "\n",
       "                                CONCEPTO       IMPORTE  \\\n",
       "0     REHABILITACION PAVIMENTO ASFALTICO  3,314,064.24   \n",
       "1                REHABILITACION GIMNASIO  1,247,305.36   \n",
       "2  CONST. CENTRO DE DESARROLLO DEPORTIVO  1,521,090.52   \n",
       "3                REHABILITACION GIMNASIO  1,245,945.57   \n",
       "\n",
       "  FECHA DEL PAGO POR CADENAS  RFC  \n",
       "0                        NaN  NaN  \n",
       "1                        NaN  NaN  \n",
       "2                        NaN  NaN  \n",
       "3                        NaN  NaN  "
      ]
     },
     "execution_count": 3,
     "metadata": {},
     "output_type": "execute_result"
    }
   ],
   "source": [
    "compras_df.head(4)"
   ]
  },
  {
   "cell_type": "code",
   "execution_count": 4,
   "id": "0fa4d752-dda7-435f-9b16-e8b74020f7cd",
   "metadata": {},
   "outputs": [
    {
     "data": {
      "text/plain": [
       "FECHA                         object\n",
       "FACTURA                       object\n",
       "BENEFICIARIO                  object\n",
       "CONCEPTO                      object\n",
       "IMPORTE                       object\n",
       "FECHA DEL PAGO POR CADENAS    object\n",
       "RFC                           object\n",
       "dtype: object"
      ]
     },
     "execution_count": 4,
     "metadata": {},
     "output_type": "execute_result"
    }
   ],
   "source": [
    "compras_df.dtypes"
   ]
  },
  {
   "cell_type": "markdown",
   "id": "933166b9-b23a-4c00-93e7-7d6734a8e733",
   "metadata": {},
   "source": [
    "## EXPANSIÓN DE LA FECHA"
   ]
  },
  {
   "cell_type": "code",
   "execution_count": 5,
   "id": "a961b4a3-3ccb-4ed2-8ed3-7db7c281e699",
   "metadata": {},
   "outputs": [],
   "source": [
    "compras_df['FECHA'] = pd.to_datetime(compras_df['FECHA'])"
   ]
  },
  {
   "cell_type": "code",
   "execution_count": 6,
   "id": "de715de7-3d30-4ded-abee-b964ff25a6fe",
   "metadata": {},
   "outputs": [],
   "source": [
    "compras_df['DIA']=compras_df['FECHA'].apply(lambda x: x.day)"
   ]
  },
  {
   "cell_type": "code",
   "execution_count": 7,
   "id": "6f20f7d1-40af-44f6-8af7-95b4ce73457b",
   "metadata": {},
   "outputs": [],
   "source": [
    "compras_df['MES']=compras_df['FECHA'].apply(lambda x: x.month)"
   ]
  },
  {
   "cell_type": "code",
   "execution_count": 8,
   "id": "8400795a-f702-462b-abaa-0fb1cbcc9efc",
   "metadata": {},
   "outputs": [],
   "source": [
    "compras_df['ANIO']=compras_df['FECHA'].apply(lambda x: x.year)"
   ]
  },
  {
   "cell_type": "markdown",
   "id": "6252a83c-f3ca-4da6-8489-4c4f868e7c3a",
   "metadata": {},
   "source": [
    "## PROYECTAR UNA VARIABLE CON OTRA"
   ]
  },
  {
   "cell_type": "code",
   "execution_count": 9,
   "id": "4d2b9a75-b5bc-4ca9-8605-954bd0cbbb17",
   "metadata": {},
   "outputs": [],
   "source": [
    "concepto_sales=compras_df['CONCEPTO'].value_counts().to_dict()"
   ]
  },
  {
   "cell_type": "code",
   "execution_count": 10,
   "id": "36f60549-302b-4b98-beda-455bf5d273ac",
   "metadata": {},
   "outputs": [
    {
     "data": {
      "text/plain": [
       "['COMESTIBLES',\n",
       " 'MANTENIMIENTO VEHICULAR',\n",
       " 'PROMOCION DE OBRAS Y ACTIVIDADES MPALES',\n",
       " 'PROMOCION DE ACTIVIDADES MUNICIPALES',\n",
       " 'INDEMNIZACION DAÑOS A VEHICULO PARTICULAR']"
      ]
     },
     "execution_count": 10,
     "metadata": {},
     "output_type": "execute_result"
    }
   ],
   "source": [
    "list(concepto_sales.keys())[0:5]"
   ]
  },
  {
   "cell_type": "code",
   "execution_count": 11,
   "id": "5d202673-7472-4ccd-be06-ea2aab64070d",
   "metadata": {},
   "outputs": [],
   "source": [
    "compras_df['CONCEPTO_SALES']=compras_df['CONCEPTO'].apply(lambda x: concepto_sales[x])"
   ]
  },
  {
   "cell_type": "code",
   "execution_count": 12,
   "id": "ad7d119a-d052-41aa-8896-afe4296c2dd7",
   "metadata": {},
   "outputs": [
    {
     "data": {
      "text/html": [
       "<div>\n",
       "<style scoped>\n",
       "    .dataframe tbody tr th:only-of-type {\n",
       "        vertical-align: middle;\n",
       "    }\n",
       "\n",
       "    .dataframe tbody tr th {\n",
       "        vertical-align: top;\n",
       "    }\n",
       "\n",
       "    .dataframe thead th {\n",
       "        text-align: right;\n",
       "    }\n",
       "</style>\n",
       "<table border=\"1\" class=\"dataframe\">\n",
       "  <thead>\n",
       "    <tr style=\"text-align: right;\">\n",
       "      <th></th>\n",
       "      <th>FECHA</th>\n",
       "      <th>FACTURA</th>\n",
       "      <th>BENEFICIARIO</th>\n",
       "      <th>CONCEPTO</th>\n",
       "      <th>IMPORTE</th>\n",
       "      <th>FECHA DEL PAGO POR CADENAS</th>\n",
       "      <th>RFC</th>\n",
       "      <th>DIA</th>\n",
       "      <th>MES</th>\n",
       "      <th>ANIO</th>\n",
       "      <th>CONCEPTO_SALES</th>\n",
       "    </tr>\n",
       "  </thead>\n",
       "  <tbody>\n",
       "    <tr>\n",
       "      <th>0</th>\n",
       "      <td>2014-01-31</td>\n",
       "      <td>388</td>\n",
       "      <td>BUFETE URBANISTICO, S.A. DE C.V.</td>\n",
       "      <td>REHABILITACION PAVIMENTO ASFALTICO</td>\n",
       "      <td>3,314,064.24</td>\n",
       "      <td>NaN</td>\n",
       "      <td>NaN</td>\n",
       "      <td>31</td>\n",
       "      <td>1</td>\n",
       "      <td>2014</td>\n",
       "      <td>1</td>\n",
       "    </tr>\n",
       "    <tr>\n",
       "      <th>1</th>\n",
       "      <td>2014-01-31</td>\n",
       "      <td>339</td>\n",
       "      <td>GUERRERO SEGURA NESTOR</td>\n",
       "      <td>REHABILITACION GIMNASIO</td>\n",
       "      <td>1,247,305.36</td>\n",
       "      <td>NaN</td>\n",
       "      <td>NaN</td>\n",
       "      <td>31</td>\n",
       "      <td>1</td>\n",
       "      <td>2014</td>\n",
       "      <td>11</td>\n",
       "    </tr>\n",
       "    <tr>\n",
       "      <th>2</th>\n",
       "      <td>2014-01-31</td>\n",
       "      <td>77</td>\n",
       "      <td>CONSTRUCCIONES DYNAMO, SA. DE CV.</td>\n",
       "      <td>CONST. CENTRO DE DESARROLLO DEPORTIVO</td>\n",
       "      <td>1,521,090.52</td>\n",
       "      <td>NaN</td>\n",
       "      <td>NaN</td>\n",
       "      <td>31</td>\n",
       "      <td>1</td>\n",
       "      <td>2014</td>\n",
       "      <td>9</td>\n",
       "    </tr>\n",
       "    <tr>\n",
       "      <th>3</th>\n",
       "      <td>2014-01-31</td>\n",
       "      <td>365</td>\n",
       "      <td>CONSTRUCTORA JOMABE, SA. DE CV.</td>\n",
       "      <td>REHABILITACION GIMNASIO</td>\n",
       "      <td>1,245,945.57</td>\n",
       "      <td>NaN</td>\n",
       "      <td>NaN</td>\n",
       "      <td>31</td>\n",
       "      <td>1</td>\n",
       "      <td>2014</td>\n",
       "      <td>11</td>\n",
       "    </tr>\n",
       "  </tbody>\n",
       "</table>\n",
       "</div>"
      ],
      "text/plain": [
       "       FECHA FACTURA                       BENEFICIARIO  \\\n",
       "0 2014-01-31     388   BUFETE URBANISTICO, S.A. DE C.V.   \n",
       "1 2014-01-31     339             GUERRERO SEGURA NESTOR   \n",
       "2 2014-01-31      77  CONSTRUCCIONES DYNAMO, SA. DE CV.   \n",
       "3 2014-01-31     365    CONSTRUCTORA JOMABE, SA. DE CV.   \n",
       "\n",
       "                                CONCEPTO       IMPORTE  \\\n",
       "0     REHABILITACION PAVIMENTO ASFALTICO  3,314,064.24   \n",
       "1                REHABILITACION GIMNASIO  1,247,305.36   \n",
       "2  CONST. CENTRO DE DESARROLLO DEPORTIVO  1,521,090.52   \n",
       "3                REHABILITACION GIMNASIO  1,245,945.57   \n",
       "\n",
       "  FECHA DEL PAGO POR CADENAS  RFC  DIA  MES  ANIO  CONCEPTO_SALES  \n",
       "0                        NaN  NaN   31    1  2014               1  \n",
       "1                        NaN  NaN   31    1  2014              11  \n",
       "2                        NaN  NaN   31    1  2014               9  \n",
       "3                        NaN  NaN   31    1  2014              11  "
      ]
     },
     "execution_count": 12,
     "metadata": {},
     "output_type": "execute_result"
    }
   ],
   "source": [
    "compras_df.head(4)"
   ]
  },
  {
   "cell_type": "code",
   "execution_count": 13,
   "id": "e5456a9c-2761-491d-8691-133ea16ce14a",
   "metadata": {},
   "outputs": [],
   "source": [
    "compras_df.to_csv('data_export/compras_df_enriched.csv', index=None)"
   ]
  }
 ],
 "metadata": {
  "kernelspec": {
   "display_name": "Python 3 (ipykernel)",
   "language": "python",
   "name": "python3"
  },
  "language_info": {
   "codemirror_mode": {
    "name": "ipython",
    "version": 3
   },
   "file_extension": ".py",
   "mimetype": "text/x-python",
   "name": "python",
   "nbconvert_exporter": "python",
   "pygments_lexer": "ipython3",
   "version": "3.11.7"
  }
 },
 "nbformat": 4,
 "nbformat_minor": 5
}
